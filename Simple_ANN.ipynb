{
  "nbformat": 4,
  "nbformat_minor": 0,
  "metadata": {
    "colab": {
      "private_outputs": true,
      "provenance": [],
      "toc_visible": true,
      "authorship_tag": "ABX9TyP0ha6xzcEKDHKv6R0yjnTW",
      "include_colab_link": true
    },
    "kernelspec": {
      "name": "python3",
      "display_name": "Python 3"
    },
    "language_info": {
      "name": "python"
    }
  },
  "cells": [
    {
      "cell_type": "markdown",
      "metadata": {
        "id": "view-in-github",
        "colab_type": "text"
      },
      "source": [
        "<a href=\"https://colab.research.google.com/github/ishumann/Coding-Implementation/blob/main/Simple_ANN.ipynb\" target=\"_parent\"><img src=\"https://colab.research.google.com/assets/colab-badge.svg\" alt=\"Open In Colab\"/></a>"
      ]
    },
    {
      "cell_type": "code",
      "execution_count": null,
      "metadata": {
        "id": "CY29_2SNKHZC"
      },
      "outputs": [],
      "source": [
        "import numpy as np\n",
        "import matplotlib.pyplot as plt\n",
        "import pandas as  pd\n",
        "\n"
      ]
    },
    {
      "cell_type": "code",
      "source": [
        "\n",
        "df = pd.read_csv('https://raw.githubusercontent.com/ishumann/Churn-Prediction/main/Bank_data.csv')"
      ],
      "metadata": {
        "id": "RCiDvkg8Lfjy"
      },
      "execution_count": null,
      "outputs": []
    },
    {
      "cell_type": "code",
      "source": [
        "df.head()"
      ],
      "metadata": {
        "id": "4FxpYD4ULnbU"
      },
      "execution_count": null,
      "outputs": []
    },
    {
      "cell_type": "code",
      "source": [],
      "metadata": {
        "id": "9C9d-RisMcz6"
      },
      "execution_count": null,
      "outputs": []
    },
    {
      "cell_type": "code",
      "source": [
        "X= df.iloc[:,:-1]\n",
        "\n",
        "y= df.iloc[:,-1]\n"
      ],
      "metadata": {
        "id": "vd8B7b-hLlmd"
      },
      "execution_count": null,
      "outputs": []
    },
    {
      "cell_type": "code",
      "source": [
        "y.shape"
      ],
      "metadata": {
        "id": "3qGA83MnLyCq"
      },
      "execution_count": null,
      "outputs": []
    },
    {
      "cell_type": "code",
      "source": [
        "X.shape"
      ],
      "metadata": {
        "id": "zRDhZAFeMlcV"
      },
      "execution_count": null,
      "outputs": []
    },
    {
      "cell_type": "code",
      "source": [
        "X.columns"
      ],
      "metadata": {
        "id": "Armbtf1LNa0L"
      },
      "execution_count": null,
      "outputs": []
    },
    {
      "cell_type": "code",
      "source": [
        "geo = pd.get_dummies(X[\"Geography\"], dtype=int, drop_first =True)\n",
        "gender = pd.get_dummies(X[\"Gender\"],dtype=int, drop_first =True)"
      ],
      "metadata": {
        "id": "sbmqWnq8MoGe"
      },
      "execution_count": null,
      "outputs": []
    },
    {
      "cell_type": "code",
      "source": [
        "X = pd.concat([X,geo,gender], axis=1)\n",
        "X = X.drop(['Geography','Surname','RowNumber','CustomerId', 'Gender','RowNumber'],axis=1)\n",
        "X.head()"
      ],
      "metadata": {
        "id": "mQKkyn14Njzs"
      },
      "execution_count": null,
      "outputs": []
    },
    {
      "cell_type": "code",
      "source": [
        "from sklearn.model_selection import train_test_split\n"
      ],
      "metadata": {
        "id": "AGYeA8ILdGR9"
      },
      "execution_count": null,
      "outputs": []
    },
    {
      "cell_type": "code",
      "source": [
        "X_train, X_test, y_train, y_test = train_test_split(X, y, test_size= .3, random_state=42)"
      ],
      "metadata": {
        "id": "FpCK-pPSdR0c"
      },
      "execution_count": null,
      "outputs": []
    },
    {
      "cell_type": "code",
      "source": [
        "from sklearn.preprocessing import StandardScaler\n",
        "\n",
        "sc = StandardScaler()\n",
        "X_train = sc.fit_transform(X_train)\n",
        "X_test = sc.fit_transform(X_test)\n",
        "\n"
      ],
      "metadata": {
        "id": "45AhaBsPdGK9"
      },
      "execution_count": null,
      "outputs": []
    },
    {
      "cell_type": "code",
      "source": [
        "import keras\n",
        "from keras.models import Sequential\n",
        "from keras.layers import Dense\n",
        "from keras.layers import LeakyReLU, PReLU, ELU\n",
        "from keras.layers import Dropout\n",
        "\n"
      ],
      "metadata": {
        "id": "sxHyVgG9W0J0"
      },
      "execution_count": null,
      "outputs": []
    },
    {
      "cell_type": "code",
      "source": [],
      "metadata": {
        "id": "fsGkdgupnup2"
      },
      "execution_count": null,
      "outputs": []
    },
    {
      "cell_type": "code",
      "source": [
        "\n",
        "# classifier.add(Dense(units=,output_dim = 6, init = 'he_uniform', activation='relu',input_dim= 11))"
      ],
      "metadata": {
        "id": "Mi3aLDdCmYJI"
      },
      "execution_count": null,
      "outputs": []
    },
    {
      "cell_type": "code",
      "source": [],
      "metadata": {
        "id": "WodWVUGEmZ9x"
      },
      "execution_count": null,
      "outputs": []
    },
    {
      "cell_type": "code",
      "source": [
        "\n",
        "# Build the model\n",
        "model = Sequential([\n",
        "    Dense(32, kernel_initializer= 'he_normal',activation='relu', input_shape=(11,)),  # Input layer with 6 features\n",
        "    Dropout(0.3),\n",
        "    Dense(16, kernel_initializer='he_normal',activation='relu'),  # Hidden layer with 6 neurons\n",
        "    Dropout(0.2),\n",
        "    Dense(8, kernel_initializer='he_normal',activation='relu'),  # Hidden layer with 6 neurons\n",
        "    Dropout(0.1),\n",
        "    Dense(1, kernel_initializer='glorot_uniform', activation='sigmoid')  # Output layer with 1 neuron (for binary classification)\n",
        "])\n",
        "\n",
        "# Compile the model\n",
        "model.compile(optimizer='adam', loss='binary_crossentropy', metrics=['accuracy'])\n",
        "\n",
        "# Train the model\n",
        "history= model.fit(X_train, y_train, epochs=20, batch_size=15, validation_split=0.2)\n"
      ],
      "metadata": {
        "id": "wwyO_wH_QS0E"
      },
      "execution_count": null,
      "outputs": []
    },
    {
      "cell_type": "code",
      "source": [
        "y_pred = model.predict(X_test)"
      ],
      "metadata": {
        "id": "BB1TolxMOS3N"
      },
      "execution_count": null,
      "outputs": []
    },
    {
      "cell_type": "code",
      "source": [
        "y_pred = (y_pred>0.5)\n"
      ],
      "metadata": {
        "id": "CqzybqYdQze7"
      },
      "execution_count": null,
      "outputs": []
    },
    {
      "cell_type": "code",
      "source": [
        "from sklearn.metrics import classification_report, confusion_matrix, accuracy_score\n",
        "cm = confusion_matrix(y_test, y_pred)\n",
        "cr= classification_report(y_test, y_pred)\n",
        "ac= accuracy_score(y_test, y_pred)\n",
        "print(cm)"
      ],
      "metadata": {
        "id": "6ZesnQDNuZqy"
      },
      "execution_count": null,
      "outputs": []
    },
    {
      "cell_type": "code",
      "source": [
        "print(cr)"
      ],
      "metadata": {
        "id": "OqUWg2XEu4U5"
      },
      "execution_count": null,
      "outputs": []
    },
    {
      "cell_type": "code",
      "source": [
        "print(ac)"
      ],
      "metadata": {
        "id": "K6SJj32qu6Fr"
      },
      "execution_count": null,
      "outputs": []
    },
    {
      "cell_type": "code",
      "source": [],
      "metadata": {
        "id": "LWKYbM4Hv-gD"
      },
      "execution_count": null,
      "outputs": []
    }
  ]
}