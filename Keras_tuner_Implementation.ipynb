{
  "nbformat": 4,
  "nbformat_minor": 0,
  "metadata": {
    "colab": {
      "private_outputs": true,
      "provenance": [],
      "gpuType": "T4",
      "authorship_tag": "ABX9TyPep0Nlxh/ThBybckjRUXL7",
      "include_colab_link": true
    },
    "kernelspec": {
      "name": "python3",
      "display_name": "Python 3"
    },
    "language_info": {
      "name": "python"
    },
    "accelerator": "GPU"
  },
  "cells": [
    {
      "cell_type": "markdown",
      "metadata": {
        "id": "view-in-github",
        "colab_type": "text"
      },
      "source": [
        "<a href=\"https://colab.research.google.com/github/ishumann/Coding-Implementation/blob/main/Keras_tuner_Implementation.ipynb\" target=\"_parent\"><img src=\"https://colab.research.google.com/assets/colab-badge.svg\" alt=\"Open In Colab\"/></a>"
      ]
    },
    {
      "cell_type": "code",
      "source": [
        "!pip install keras-tuner"
      ],
      "metadata": {
        "id": "6CCHopPN8VnI"
      },
      "execution_count": null,
      "outputs": []
    },
    {
      "cell_type": "code",
      "execution_count": null,
      "metadata": {
        "id": "ygxk-5Exz9pO"
      },
      "outputs": [],
      "source": [
        "import pandas as pd\n",
        "import numpy as np\n",
        "from tensorflow import keras\n",
        "from tensorflow.keras import layers\n",
        "from keras_tuner.tuners import RandomSearch\n",
        "import seaborn as sns"
      ]
    },
    {
      "cell_type": "code",
      "source": [],
      "metadata": {
        "id": "yS77lkkqPqZK"
      },
      "execution_count": null,
      "outputs": []
    },
    {
      "cell_type": "code",
      "source": [
        "df= pd.read_csv('https://raw.githubusercontent.com/krishnaik06/Keras-Tuner/main/Real_Combine.csv')\n"
      ],
      "metadata": {
        "id": "jrSChi5x8Hd7"
      },
      "execution_count": null,
      "outputs": []
    },
    {
      "cell_type": "code",
      "source": [
        "df.head()"
      ],
      "metadata": {
        "id": "Xhp2pGHa8jsY"
      },
      "execution_count": null,
      "outputs": []
    },
    {
      "cell_type": "code",
      "source": [
        "df.corr()"
      ],
      "metadata": {
        "id": "yQSUVXI98lS4"
      },
      "execution_count": null,
      "outputs": []
    },
    {
      "cell_type": "code",
      "source": [
        "sns.heatmap(df.corr())"
      ],
      "metadata": {
        "id": "kFyo1KPK815N"
      },
      "execution_count": null,
      "outputs": []
    },
    {
      "cell_type": "code",
      "source": [
        "X = df.iloc[:,:-1]\n",
        "y = df.iloc[:,-1]"
      ],
      "metadata": {
        "id": "EIdHdAup89Ff"
      },
      "execution_count": null,
      "outputs": []
    },
    {
      "cell_type": "code",
      "source": [
        "def build_model(hp):\n",
        "    model = keras.Sequential()\n",
        "    for i in range(hp.Int('num_layers', 2, 20)):\n",
        "        model.add(layers.Dense(units= hp.Int('units_'+str(i),\n",
        "                                             min_value=32,\n",
        "                                             max_value=512,\n",
        "                                             step = 32),\n",
        "                               activation= \"relu\"))\n",
        "    model.add(layers.Dense(1, activation='linear'))\n",
        "    model.compile(\n",
        "        optimizer = keras.optimizers.Adam(\n",
        "            hp.Choice('learning_rate', [1e-2,1e-3,1e-4])),\n",
        "        loss='mean_absolute_error', metrics=['mean_absolute_error'])\n",
        "    return model\n",
        "\n"
      ],
      "metadata": {
        "id": "8SNPFU5yKouu"
      },
      "execution_count": null,
      "outputs": []
    },
    {
      "cell_type": "code",
      "source": [
        "tuner = RandomSearch(\n",
        "    build_model,\n",
        "    objective = 'val_mean_absolute_error',\n",
        "    max_trials=5,\n",
        "    executions_per_trial=3,\n",
        "    directory='project',\n",
        "    project_name = \"air Quality index\")"
      ],
      "metadata": {
        "id": "wbaujf_sRb-g"
      },
      "execution_count": null,
      "outputs": []
    },
    {
      "cell_type": "code",
      "source": [
        "tuner.search_space_summary()"
      ],
      "metadata": {
        "id": "H0IJrG20SYQV"
      },
      "execution_count": null,
      "outputs": []
    },
    {
      "cell_type": "code",
      "source": [
        "from sklearn.model_selection import train_test_split\n",
        "X_train, X_test, y_train, y_test = train_test_split(X, y,random_state=32, test_size=.3 )"
      ],
      "metadata": {
        "id": "BscR2WQvSiwV"
      },
      "execution_count": null,
      "outputs": []
    },
    {
      "cell_type": "code",
      "source": [
        "tuner.search(X_train,\n",
        "             y_train,\n",
        "             epochs=5,\n",
        "             validation_data=(X_test,y_test))"
      ],
      "metadata": {
        "id": "czNj4O8RVf-B"
      },
      "execution_count": null,
      "outputs": []
    },
    {
      "cell_type": "code",
      "source": [
        "tuner.results_summary()"
      ],
      "metadata": {
        "id": "JmzQHBvmV8uJ"
      },
      "execution_count": null,
      "outputs": []
    },
    {
      "cell_type": "code",
      "source": [
        "\n",
        "def build_model(hp):\n",
        "    model = keras.Sequential()\n",
        "    for _ in range(hp.Int('num_layers', 2, 5)):  # Reduce max layers for stability\n",
        "        model.add(layers.Dense(units=hp.Int('units', min_value=32, max_value=256, step=32),\n",
        "                                activation=\"relu\",\n",
        "                                kernel_initializer=\"he_normal\"))  # He initialization\n",
        "    model.add(layers.Dense(1, activation=\"linear\"))\n",
        "    model.compile(\n",
        "        optimizer=keras.optimizers.Adam(hp.Choice('learning_rate', [1e-3, 1e-4, 1e-5])),\n",
        "        loss=\"mean_absolute_error\",\n",
        "        metrics=[\"mean_absolute_error\"],\n",
        "        clipnorm=1.0  # Gradient clipping\n",
        "    )\n",
        "    return model\n",
        "\n",
        "class EarlyStoppingWithNaN(keras.callbacks.Callback):\n",
        "  def on_train_batch_end(self, batch, logs=None):\n",
        "    if logs is None:\n",
        "      return\n",
        "    for metric, value in logs.items():\n",
        "      if np.isnan(value):\n",
        "        print(f\"Detected NaN value in metric: {metric}. Stopping training.\")\n",
        "        self.model.stop_training = True\n",
        "        break\n",
        "\n",
        "early_stopping_nan = EarlyStoppingWithNaN()\n",
        "\n",
        "tuner = RandomSearch(\n",
        "    build_model,\n",
        "    objective=\"val_mean_absolute_error\",\n",
        "    max_trials=15,  # Increase trials for more exploration\n",
        "    executions_per_trial=1,  # Reduce executions per trial for efficiency\n",
        "    directory=\"project\",\n",
        "    project_name=\"air_quality_index\"\n",
        ")\n",
        "\n",
        "tuner.search(X_train, y_train, epochs=5, validation_data=(X_test, y_test))\n"
      ],
      "metadata": {
        "id": "rKyiedokZl7w"
      },
      "execution_count": null,
      "outputs": []
    },
    {
      "cell_type": "code",
      "source": [],
      "metadata": {
        "id": "wC1H4xsyqj01"
      },
      "execution_count": null,
      "outputs": []
    }
  ]
}