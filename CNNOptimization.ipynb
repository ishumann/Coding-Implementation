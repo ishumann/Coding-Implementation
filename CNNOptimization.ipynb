{
  "metadata": {
    "kernelspec": {
      "language": "python",
      "display_name": "Python 3",
      "name": "python3"
    },
    "language_info": {
      "name": "python",
      "version": "3.10.13",
      "mimetype": "text/x-python",
      "codemirror_mode": {
        "name": "ipython",
        "version": 3
      },
      "pygments_lexer": "ipython3",
      "nbconvert_exporter": "python",
      "file_extension": ".py"
    },
    "kaggle": {
      "accelerator": "nvidiaTeslaT4",
      "dataSources": [],
      "dockerImageVersionId": 30699,
      "isInternetEnabled": true,
      "language": "python",
      "sourceType": "notebook",
      "isGpuEnabled": true
    },
    "colab": {
      "name": "CNNOptimization",
      "provenance": [],
      "include_colab_link": true
    }
  },
  "nbformat_minor": 0,
  "nbformat": 4,
  "cells": [
    {
      "cell_type": "markdown",
      "metadata": {
        "id": "view-in-github",
        "colab_type": "text"
      },
      "source": [
        "<a href=\"https://colab.research.google.com/github/ishumann/Coding-Implementation/blob/main/CNNOptimization.ipynb\" target=\"_parent\"><img src=\"https://colab.research.google.com/assets/colab-badge.svg\" alt=\"Open In Colab\"/></a>"
      ]
    },
    {
      "cell_type": "code",
      "source": [
        "!pip install keras-tuner"
      ],
      "metadata": {
        "execution": {
          "iopub.status.busy": "2024-05-17T14:39:19.750096Z",
          "iopub.execute_input": "2024-05-17T14:39:19.750952Z"
        },
        "trusted": true,
        "id": "YSvg-BLmZRCq"
      },
      "execution_count": null,
      "outputs": []
    },
    {
      "cell_type": "code",
      "source": [
        "import tensorflow as tf\n",
        "from tensorflow import keras\n",
        "import numpy as np\n",
        "\n",
        "print(tf.__version__)\n",
        "\n",
        "fashion_mnist= keras.datasets.fashion_mnist\n",
        "\n",
        "(train_images,train_labels), (test_images,test_labels) = fashion_mnist.load_data()\n",
        "\n",
        "train_images = train_images/255.0\n",
        "test_images = test_images/255.0\n",
        "\n",
        "\n",
        "def build_model(hp):\n",
        "    model = keras.Sequential([\n",
        "        keras.layers.Conv2D(\n",
        "            filters=hp.Int('conv_1_filter', min_value=32, max_value=128, step=16 ),\n",
        "            activation='relu',\n",
        "            kernel_size= hp.Choice('con_1_kernal', values=[3,5,7]),\n",
        "            input_shape= (28,28,1)\n",
        "        ),\n",
        "\n",
        "        keras.layers.Conv2D(\n",
        "            filters=hp.Int('conv_1_filter', min_value=32, max_value=128, step=16 ),\n",
        "            activation='relu',\n",
        "            kernel_size= hp.Choice('con_1_kernal', values=[3,5,7])\n",
        "        ),\n",
        "\n",
        "        keras.layers.Flatten(),\n",
        "        keras.layers.Dense(\n",
        "            units=hp.Int('dense_1_units', min_value=32, max_value=128, step=16 ),\n",
        "            activation='relu'\n",
        "        ),\n",
        "        keras.layers.Dense(units= 10, activation='softmax')\n",
        "    ])\n",
        "\n",
        "    model.compile(optimizer=\n",
        "                  keras.optimizers.Adam(hp.Choice('learning_rate',\n",
        "                                                  values=[1e-2,1e-3])),\n",
        "                  loss= \"sparse_categorical_crossentropy\", metrics= ['accuracy'] )\n",
        "    return model"
      ],
      "metadata": {
        "execution": {
          "iopub.status.busy": "2024-05-17T15:34:22.69106Z",
          "iopub.execute_input": "2024-05-17T15:34:22.691453Z",
          "iopub.status.idle": "2024-05-17T15:34:23.222398Z",
          "shell.execute_reply.started": "2024-05-17T15:34:22.691423Z",
          "shell.execute_reply": "2024-05-17T15:34:23.221543Z"
        },
        "trusted": true,
        "id": "pZNIxjroZRCr",
        "outputId": "b9170eaf-0b7b-4dc6-90fe-9ef1a8752c95"
      },
      "execution_count": null,
      "outputs": [
        {
          "name": "stdout",
          "text": "2.15.0\n",
          "output_type": "stream"
        }
      ]
    },
    {
      "cell_type": "code",
      "source": [
        "import keras_tuner as kt\n",
        "from keras_tuner.tuners import RandomSearch\n",
        "from keras_tuner import HyperParameters"
      ],
      "metadata": {
        "scrolled": true,
        "execution": {
          "iopub.status.busy": "2024-05-17T15:34:23.475335Z",
          "iopub.execute_input": "2024-05-17T15:34:23.475656Z",
          "iopub.status.idle": "2024-05-17T15:34:23.480126Z",
          "shell.execute_reply.started": "2024-05-17T15:34:23.475631Z",
          "shell.execute_reply": "2024-05-17T15:34:23.479041Z"
        },
        "trusted": true,
        "id": "he330FXxZRCy"
      },
      "execution_count": null,
      "outputs": []
    },
    {
      "cell_type": "code",
      "source": [
        "tuner_search = RandomSearch(build_model,\n",
        "#                             direction=\"min\",\n",
        "                            objective='val_accuracy',\n",
        "                            max_trials=5,\n",
        "                            directory='output',\n",
        "                            project_name='Mnist Fashion')\n",
        "# keras_tuner.Objective(\"val_accuray\", direction=\"min\")"
      ],
      "metadata": {
        "execution": {
          "iopub.status.busy": "2024-05-17T15:34:23.964581Z",
          "iopub.execute_input": "2024-05-17T15:34:23.965195Z",
          "iopub.status.idle": "2024-05-17T15:34:24.044407Z",
          "shell.execute_reply.started": "2024-05-17T15:34:23.965153Z",
          "shell.execute_reply": "2024-05-17T15:34:24.043669Z"
        },
        "trusted": true,
        "id": "TY6JeHOFZRC0"
      },
      "execution_count": null,
      "outputs": []
    },
    {
      "cell_type": "code",
      "source": [
        "tuner_search.search(train_images, train_labels, epochs=2, validation_split=0.1)"
      ],
      "metadata": {
        "execution": {
          "iopub.status.busy": "2024-05-17T15:37:06.013713Z",
          "iopub.execute_input": "2024-05-17T15:37:06.014436Z",
          "iopub.status.idle": "2024-05-17T15:38:50.201063Z",
          "shell.execute_reply.started": "2024-05-17T15:37:06.014407Z",
          "shell.execute_reply": "2024-05-17T15:38:50.200206Z"
        },
        "trusted": true,
        "id": "eIfIITLdZRC1",
        "outputId": "80f96875-0a3c-4ee2-d8a9-0187ebc132de"
      },
      "execution_count": null,
      "outputs": [
        {
          "name": "stdout",
          "text": "Trial 5 Complete [00h 00m 17s]\nval_accuracy: 0.8306666612625122\n\nBest val_accuracy So Far: 0.8930000066757202\nTotal elapsed time: 00h 01m 44s\n",
          "output_type": "stream"
        }
      ]
    },
    {
      "cell_type": "code",
      "source": [
        "tuner_search.results_summary()"
      ],
      "metadata": {
        "execution": {
          "iopub.status.busy": "2024-05-17T15:44:33.968846Z",
          "iopub.execute_input": "2024-05-17T15:44:33.969585Z",
          "iopub.status.idle": "2024-05-17T15:44:33.97491Z",
          "shell.execute_reply.started": "2024-05-17T15:44:33.969553Z",
          "shell.execute_reply": "2024-05-17T15:44:33.973936Z"
        },
        "trusted": true,
        "id": "8d1rtRjXZRC2",
        "outputId": "f5740307-aef6-4436-f842-4bb7a2acd930"
      },
      "execution_count": null,
      "outputs": [
        {
          "name": "stdout",
          "text": "Results summary\nResults in output/Mnist Fashion\nShowing 10 best trials\nObjective(name=\"val_accuracy\", direction=\"max\")\n\nTrial 1 summary\nHyperparameters:\nconv_1_filter: 64\ncon_1_kernal: 7\ndense_1_units: 128\nlearning_rate: 0.001\nScore: 0.8930000066757202\n\nTrial 3 summary\nHyperparameters:\nconv_1_filter: 64\ncon_1_kernal: 7\ndense_1_units: 48\nlearning_rate: 0.001\nScore: 0.8895000219345093\n\nTrial 2 summary\nHyperparameters:\nconv_1_filter: 112\ncon_1_kernal: 5\ndense_1_units: 48\nlearning_rate: 0.001\nScore: 0.887666642665863\n\nTrial 0 summary\nHyperparameters:\nconv_1_filter: 80\ncon_1_kernal: 3\ndense_1_units: 48\nlearning_rate: 0.01\nScore: 0.878000020980835\n\nTrial 4 summary\nHyperparameters:\nconv_1_filter: 48\ncon_1_kernal: 7\ndense_1_units: 96\nlearning_rate: 0.01\nScore: 0.8306666612625122\n",
          "output_type": "stream"
        }
      ]
    },
    {
      "cell_type": "code",
      "source": [
        "best_model = tuner_search.get_best_models(num_models=1)[0]"
      ],
      "metadata": {
        "scrolled": true,
        "execution": {
          "iopub.status.busy": "2024-05-17T15:47:10.064135Z",
          "iopub.execute_input": "2024-05-17T15:47:10.064539Z",
          "iopub.status.idle": "2024-05-17T15:47:10.79062Z",
          "shell.execute_reply.started": "2024-05-17T15:47:10.064509Z",
          "shell.execute_reply": "2024-05-17T15:47:10.789679Z"
        },
        "trusted": true,
        "id": "Izj0JnVdZRC3",
        "outputId": "ba1cf7f2-e4c9-49c5-83f7-5ec6d7e35f29"
      },
      "execution_count": null,
      "outputs": [
        {
          "name": "stderr",
          "text": "/opt/conda/lib/python3.10/site-packages/keras/src/layers/convolutional/base_conv.py:99: UserWarning: Do not pass an `input_shape`/`input_dim` argument to a layer. When using Sequential models, prefer using an `Input(shape)` object as the first layer in the model instead.\n  super().__init__(\n/opt/conda/lib/python3.10/site-packages/keras/src/saving/saving_lib.py:418: UserWarning: Skipping variable loading for optimizer 'adam', because it has 2 variables whereas the saved optimizer has 18 variables. \n  trackable.load_own_variables(weights_store.get(inner_path))\n",
          "output_type": "stream"
        }
      ]
    },
    {
      "cell_type": "code",
      "source": [
        "best_model.summary()"
      ],
      "metadata": {
        "execution": {
          "iopub.status.busy": "2024-05-17T15:47:59.199677Z",
          "iopub.execute_input": "2024-05-17T15:47:59.200057Z",
          "iopub.status.idle": "2024-05-17T15:47:59.222966Z",
          "shell.execute_reply.started": "2024-05-17T15:47:59.200028Z",
          "shell.execute_reply": "2024-05-17T15:47:59.22211Z"
        },
        "trusted": true,
        "id": "4FHrHysXZRC5",
        "outputId": "c28989d5-eb6f-44ef-8802-be167d826aa2"
      },
      "execution_count": null,
      "outputs": [
        {
          "output_type": "display_data",
          "data": {
            "text/plain": "\u001b[1mModel: \"sequential\"\u001b[0m\n",
            "text/html": "<pre style=\"white-space:pre;overflow-x:auto;line-height:normal;font-family:Menlo,'DejaVu Sans Mono',consolas,'Courier New',monospace\"><span style=\"font-weight: bold\">Model: \"sequential\"</span>\n</pre>\n"
          },
          "metadata": {}
        },
        {
          "output_type": "display_data",
          "data": {
            "text/plain": "┏━━━━━━━━━━━━━━━━━━━━━━━━━━━━━━━━━┳━━━━━━━━━━━━━━━━━━━━━━━━┳━━━━━━━━━━━━━━━┓\n┃\u001b[1m \u001b[0m\u001b[1mLayer (type)                   \u001b[0m\u001b[1m \u001b[0m┃\u001b[1m \u001b[0m\u001b[1mOutput Shape          \u001b[0m\u001b[1m \u001b[0m┃\u001b[1m \u001b[0m\u001b[1m      Param #\u001b[0m\u001b[1m \u001b[0m┃\n┡━━━━━━━━━━━━━━━━━━━━━━━━━━━━━━━━━╇━━━━━━━━━━━━━━━━━━━━━━━━╇━━━━━━━━━━━━━━━┩\n│ conv2d (\u001b[38;5;33mConv2D\u001b[0m)                 │ (\u001b[38;5;45mNone\u001b[0m, \u001b[38;5;34m22\u001b[0m, \u001b[38;5;34m22\u001b[0m, \u001b[38;5;34m64\u001b[0m)     │         \u001b[38;5;34m3,200\u001b[0m │\n├─────────────────────────────────┼────────────────────────┼───────────────┤\n│ conv2d_1 (\u001b[38;5;33mConv2D\u001b[0m)               │ (\u001b[38;5;45mNone\u001b[0m, \u001b[38;5;34m16\u001b[0m, \u001b[38;5;34m16\u001b[0m, \u001b[38;5;34m64\u001b[0m)     │       \u001b[38;5;34m200,768\u001b[0m │\n├─────────────────────────────────┼────────────────────────┼───────────────┤\n│ flatten (\u001b[38;5;33mFlatten\u001b[0m)               │ (\u001b[38;5;45mNone\u001b[0m, \u001b[38;5;34m16384\u001b[0m)          │             \u001b[38;5;34m0\u001b[0m │\n├─────────────────────────────────┼────────────────────────┼───────────────┤\n│ dense (\u001b[38;5;33mDense\u001b[0m)                   │ (\u001b[38;5;45mNone\u001b[0m, \u001b[38;5;34m128\u001b[0m)            │     \u001b[38;5;34m2,097,280\u001b[0m │\n├─────────────────────────────────┼────────────────────────┼───────────────┤\n│ dense_1 (\u001b[38;5;33mDense\u001b[0m)                 │ (\u001b[38;5;45mNone\u001b[0m, \u001b[38;5;34m10\u001b[0m)             │         \u001b[38;5;34m1,290\u001b[0m │\n└─────────────────────────────────┴────────────────────────┴───────────────┘\n",
            "text/html": "<pre style=\"white-space:pre;overflow-x:auto;line-height:normal;font-family:Menlo,'DejaVu Sans Mono',consolas,'Courier New',monospace\">┏━━━━━━━━━━━━━━━━━━━━━━━━━━━━━━━━━┳━━━━━━━━━━━━━━━━━━━━━━━━┳━━━━━━━━━━━━━━━┓\n┃<span style=\"font-weight: bold\"> Layer (type)                    </span>┃<span style=\"font-weight: bold\"> Output Shape           </span>┃<span style=\"font-weight: bold\">       Param # </span>┃\n┡━━━━━━━━━━━━━━━━━━━━━━━━━━━━━━━━━╇━━━━━━━━━━━━━━━━━━━━━━━━╇━━━━━━━━━━━━━━━┩\n│ conv2d (<span style=\"color: #0087ff; text-decoration-color: #0087ff\">Conv2D</span>)                 │ (<span style=\"color: #00d7ff; text-decoration-color: #00d7ff\">None</span>, <span style=\"color: #00af00; text-decoration-color: #00af00\">22</span>, <span style=\"color: #00af00; text-decoration-color: #00af00\">22</span>, <span style=\"color: #00af00; text-decoration-color: #00af00\">64</span>)     │         <span style=\"color: #00af00; text-decoration-color: #00af00\">3,200</span> │\n├─────────────────────────────────┼────────────────────────┼───────────────┤\n│ conv2d_1 (<span style=\"color: #0087ff; text-decoration-color: #0087ff\">Conv2D</span>)               │ (<span style=\"color: #00d7ff; text-decoration-color: #00d7ff\">None</span>, <span style=\"color: #00af00; text-decoration-color: #00af00\">16</span>, <span style=\"color: #00af00; text-decoration-color: #00af00\">16</span>, <span style=\"color: #00af00; text-decoration-color: #00af00\">64</span>)     │       <span style=\"color: #00af00; text-decoration-color: #00af00\">200,768</span> │\n├─────────────────────────────────┼────────────────────────┼───────────────┤\n│ flatten (<span style=\"color: #0087ff; text-decoration-color: #0087ff\">Flatten</span>)               │ (<span style=\"color: #00d7ff; text-decoration-color: #00d7ff\">None</span>, <span style=\"color: #00af00; text-decoration-color: #00af00\">16384</span>)          │             <span style=\"color: #00af00; text-decoration-color: #00af00\">0</span> │\n├─────────────────────────────────┼────────────────────────┼───────────────┤\n│ dense (<span style=\"color: #0087ff; text-decoration-color: #0087ff\">Dense</span>)                   │ (<span style=\"color: #00d7ff; text-decoration-color: #00d7ff\">None</span>, <span style=\"color: #00af00; text-decoration-color: #00af00\">128</span>)            │     <span style=\"color: #00af00; text-decoration-color: #00af00\">2,097,280</span> │\n├─────────────────────────────────┼────────────────────────┼───────────────┤\n│ dense_1 (<span style=\"color: #0087ff; text-decoration-color: #0087ff\">Dense</span>)                 │ (<span style=\"color: #00d7ff; text-decoration-color: #00d7ff\">None</span>, <span style=\"color: #00af00; text-decoration-color: #00af00\">10</span>)             │         <span style=\"color: #00af00; text-decoration-color: #00af00\">1,290</span> │\n└─────────────────────────────────┴────────────────────────┴───────────────┘\n</pre>\n"
          },
          "metadata": {}
        },
        {
          "output_type": "display_data",
          "data": {
            "text/plain": "\u001b[1m Total params: \u001b[0m\u001b[38;5;34m2,302,538\u001b[0m (8.78 MB)\n",
            "text/html": "<pre style=\"white-space:pre;overflow-x:auto;line-height:normal;font-family:Menlo,'DejaVu Sans Mono',consolas,'Courier New',monospace\"><span style=\"font-weight: bold\"> Total params: </span><span style=\"color: #00af00; text-decoration-color: #00af00\">2,302,538</span> (8.78 MB)\n</pre>\n"
          },
          "metadata": {}
        },
        {
          "output_type": "display_data",
          "data": {
            "text/plain": "\u001b[1m Trainable params: \u001b[0m\u001b[38;5;34m2,302,538\u001b[0m (8.78 MB)\n",
            "text/html": "<pre style=\"white-space:pre;overflow-x:auto;line-height:normal;font-family:Menlo,'DejaVu Sans Mono',consolas,'Courier New',monospace\"><span style=\"font-weight: bold\"> Trainable params: </span><span style=\"color: #00af00; text-decoration-color: #00af00\">2,302,538</span> (8.78 MB)\n</pre>\n"
          },
          "metadata": {}
        },
        {
          "output_type": "display_data",
          "data": {
            "text/plain": "\u001b[1m Non-trainable params: \u001b[0m\u001b[38;5;34m0\u001b[0m (0.00 B)\n",
            "text/html": "<pre style=\"white-space:pre;overflow-x:auto;line-height:normal;font-family:Menlo,'DejaVu Sans Mono',consolas,'Courier New',monospace\"><span style=\"font-weight: bold\"> Non-trainable params: </span><span style=\"color: #00af00; text-decoration-color: #00af00\">0</span> (0.00 B)\n</pre>\n"
          },
          "metadata": {}
        }
      ]
    },
    {
      "cell_type": "code",
      "source": [
        "best_model.fit(train_images, train_labels, epochs=10, validation_split=0.1, initial_epoch= 2)"
      ],
      "metadata": {
        "execution": {
          "iopub.status.busy": "2024-05-17T15:50:48.654807Z",
          "iopub.execute_input": "2024-05-17T15:50:48.655839Z",
          "iopub.status.idle": "2024-05-17T15:51:46.286565Z",
          "shell.execute_reply.started": "2024-05-17T15:50:48.655796Z",
          "shell.execute_reply": "2024-05-17T15:51:46.285508Z"
        },
        "trusted": true,
        "id": "abyb0tfTZRC6",
        "outputId": "71849527-6c8b-4596-80ac-7b228deb0001"
      },
      "execution_count": null,
      "outputs": [
        {
          "name": "stdout",
          "text": "Epoch 3/10\n\u001b[1m1688/1688\u001b[0m \u001b[32m━━━━━━━━━━━━━━━━━━━━\u001b[0m\u001b[37m\u001b[0m \u001b[1m10s\u001b[0m 5ms/step - accuracy: 0.9003 - loss: 0.2656 - val_accuracy: 0.9002 - val_loss: 0.2740\nEpoch 4/10\n\u001b[1m1688/1688\u001b[0m \u001b[32m━━━━━━━━━━━━━━━━━━━━\u001b[0m\u001b[37m\u001b[0m \u001b[1m7s\u001b[0m 4ms/step - accuracy: 0.9194 - loss: 0.2174 - val_accuracy: 0.9062 - val_loss: 0.2608\nEpoch 5/10\n\u001b[1m1688/1688\u001b[0m \u001b[32m━━━━━━━━━━━━━━━━━━━━\u001b[0m\u001b[37m\u001b[0m \u001b[1m7s\u001b[0m 4ms/step - accuracy: 0.9310 - loss: 0.1819 - val_accuracy: 0.8983 - val_loss: 0.2786\nEpoch 6/10\n\u001b[1m1688/1688\u001b[0m \u001b[32m━━━━━━━━━━━━━━━━━━━━\u001b[0m\u001b[37m\u001b[0m \u001b[1m7s\u001b[0m 4ms/step - accuracy: 0.9427 - loss: 0.1536 - val_accuracy: 0.9057 - val_loss: 0.2810\nEpoch 7/10\n\u001b[1m1688/1688\u001b[0m \u001b[32m━━━━━━━━━━━━━━━━━━━━\u001b[0m\u001b[37m\u001b[0m \u001b[1m7s\u001b[0m 4ms/step - accuracy: 0.9525 - loss: 0.1243 - val_accuracy: 0.9020 - val_loss: 0.2980\nEpoch 8/10\n\u001b[1m1688/1688\u001b[0m \u001b[32m━━━━━━━━━━━━━━━━━━━━\u001b[0m\u001b[37m\u001b[0m \u001b[1m7s\u001b[0m 4ms/step - accuracy: 0.9606 - loss: 0.1045 - val_accuracy: 0.9028 - val_loss: 0.3497\nEpoch 9/10\n\u001b[1m1688/1688\u001b[0m \u001b[32m━━━━━━━━━━━━━━━━━━━━\u001b[0m\u001b[37m\u001b[0m \u001b[1m7s\u001b[0m 4ms/step - accuracy: 0.9661 - loss: 0.0924 - val_accuracy: 0.9068 - val_loss: 0.3812\nEpoch 10/10\n\u001b[1m1688/1688\u001b[0m \u001b[32m━━━━━━━━━━━━━━━━━━━━\u001b[0m\u001b[37m\u001b[0m \u001b[1m7s\u001b[0m 4ms/step - accuracy: 0.9720 - loss: 0.0742 - val_accuracy: 0.8993 - val_loss: 0.4290\n",
          "output_type": "stream"
        },
        {
          "execution_count": 46,
          "output_type": "execute_result",
          "data": {
            "text/plain": "<keras.src.callbacks.history.History at 0x7ab4b090f910>"
          },
          "metadata": {}
        }
      ]
    },
    {
      "cell_type": "code",
      "source": [],
      "metadata": {
        "id": "7JKs7e4UZRC7"
      },
      "execution_count": null,
      "outputs": []
    }
  ]
}